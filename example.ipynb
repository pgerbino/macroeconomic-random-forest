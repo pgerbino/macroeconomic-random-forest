{
 "cells": [
  {
   "cell_type": "markdown",
   "metadata": {},
   "source": [
    "This is a simple notebook that replicates https://mrf-web.readthedocs.io/en/latest/usage.html#usage"
   ]
  },
  {
   "cell_type": "code",
   "execution_count": 2,
   "metadata": {},
   "outputs": [],
   "source": [
    "# needs correcting as the documentation a from MRF import *\n",
    "from MacroRandomForest import *\n",
    "import matplotlib.pyplot as plt"
   ]
  },
  {
   "cell_type": "code",
   "execution_count": null,
   "metadata": {},
   "outputs": [],
   "source": [
    "import pandas as pd\n",
    "import numpy as np\n",
    "\n",
    "# Set random seed for reproducibility\n",
    "np.random.seed(42)\n",
    "\n",
    "# Number of rows\n",
    "n = 1000\n",
    "\n",
    "# Create normally distributed data for each column\n",
    "data = {\n",
    "    'sim_y': np.random.normal(0, 1, n),\n",
    "    'sim_x1': np.random.normal(0, 1, n),\n",
    "    'sim_x2': np.random.normal(0, 1, n),\n",
    "    'sim_x3': np.random.normal(0, 1, n),\n",
    "    'sim_x4': np.random.normal(0, 1, n),\n",
    "    'sim_x5': np.random.normal(0, 1, n),\n",
    "    'sim_x6': np.random.normal(0, 1, n),\n",
    "    'sim_x7': np.random.normal(0, 1, n),\n",
    "    'sim_x8': np.random.normal(0, 1, n),\n",
    "    'sim_x9': np.random.normal(0, 1, n),\n",
    "    'sim_x10': np.random.normal(0, 1, n),\n",
    "    'sim_x11': np.random.normal(0, 1, n),\n",
    "    'sim_x12': np.random.normal(0, 1, n),\n",
    "    'sim_x13': np.random.normal(0, 1, n),\n",
    "    'sim_x14': np.random.normal(0, 1, n),\n",
    "    'sim_x15': np.random.normal(0, 1, n),\n",
    "    'trend': np.random.normal(0, 1, n)\n",
    "}\n",
    "\n",
    "# Create the DataFrame\n",
    "simulated_data = pd.DataFrame(data)\n",
    "\n",
    "# Display the first few rows of the DataFrame\n",
    "print(simulated_data.head())\n",
    "\n",
    "# Display basic information about the DataFrame\n",
    "print(simulated_data.info())\n"
   ]
  },
  {
   "cell_type": "code",
   "execution_count": null,
   "metadata": {},
   "outputs": [],
   "source": [
    "simulated_data = pd.read_csv('final_dataset.csv', index_col=0)\n",
    "simulated_data['trend'] = np.arange(1, len(simulated_data) + 1)\n",
    "simulated_data.reset_index(drop=True, inplace=True)\n",
    "simulated_data.head()\n",
    "# there is a problem with the data - the dependent variable should be the first column\n",
    "# Move the 'gdp' column to the first position\n",
    "gdp_column = simulated_data.pop('gdp')\n",
    "simulated_data.insert(0, 'gdp', gdp_column)"
   ]
  },
  {
   "cell_type": "code",
   "execution_count": 42,
   "metadata": {},
   "outputs": [],
   "source": [
    "### Dependent Variable\n",
    "my_var = \"gdp\"\n",
    "y_pos = simulated_data.columns.get_loc(my_var)\n",
    "\n",
    "### Exogenous Variables\n",
    "# S_vars = [f\"sim_x{i}\" for i in range(1, 16)] + ['trend']\n",
    "S_vars = simulated_data.columns.tolist()\n",
    "S_pos = [simulated_data.columns.get_loc(s) for s in S_vars]\n",
    "S_vars.remove(my_var)\n",
    "\n",
    "### Variables Included in Linear Equation\n",
    "x_vars = [\"inflation\", 'government_expenditure', 'Rate']\n",
    "x_pos = [simulated_data.columns.get_loc(x) for x in x_vars]"
   ]
  },
  {
   "cell_type": "code",
   "execution_count": null,
   "metadata": {},
   "outputs": [],
   "source": []
  },
  {
   "cell_type": "code",
   "execution_count": 43,
   "metadata": {},
   "outputs": [],
   "source": [
    "oos_pos = np.arange(len(simulated_data) - 12 , len(simulated_data)) # lower should be oos start, upper the length of your dataset"
   ]
  },
  {
   "cell_type": "code",
   "execution_count": null,
   "metadata": {},
   "outputs": [],
   "source": [
    "y_pos\n"
   ]
  },
  {
   "cell_type": "code",
   "execution_count": null,
   "metadata": {},
   "outputs": [],
   "source": [
    "y_pos = np.atleast_1d(y_pos)\n",
    "x_pos = np.atleast_1d(x_pos)\n",
    "S_pos = np.atleast_1d(S_pos)\n",
    "oos_pos = np.atleast_1d(oos_pos)\n",
    "\n",
    "MRF = MacroRandomForest(data = simulated_data,\n",
    "                        y_pos = y_pos,\n",
    "                        x_pos = x_pos,\n",
    "                        S_pos = S_pos,\n",
    "                        B = 2,\n",
    "                        parallelise = False,\n",
    "                        n_cores = 1,\n",
    "                        resampling_opt = 2,\n",
    "                        oos_pos = oos_pos,\n",
    "                        trend_push = 4,\n",
    "                        quantile_rate = 0.3,\n",
    "                        print_b = True,\n",
    "                        fast_rw = True)"
   ]
  },
  {
   "cell_type": "code",
   "execution_count": null,
   "metadata": {},
   "outputs": [],
   "source": []
  },
  {
   "cell_type": "code",
   "execution_count": null,
   "metadata": {},
   "outputs": [],
   "source": [
    "MRF_output = MRF._ensemble_loop()"
   ]
  },
  {
   "cell_type": "code",
   "execution_count": 9,
   "metadata": {},
   "outputs": [],
   "source": [
    "forecasts = MRF_output['pred']\n",
    "betas = MRF_output['betas']"
   ]
  },
  {
   "cell_type": "code",
   "execution_count": null,
   "metadata": {},
   "outputs": [],
   "source": [
    "fig, ax = plt.subplots()\n",
    "plt.rcParams['figure.figsize'] = (20, 8)\n",
    "\n",
    "# Plotting actual versus original\n",
    "ax.plot(simulated_data['sim_y'].loc[oos_pos].shift(1), label = 'Actual', linewidth = 3, color ='mediumseagreen', linestyle = '--')\n",
    "ax.plot(forecasts, color = 'lightcoral', linewidth = 3, label = \"MRF Ensemble\")\n",
    "\n",
    "ax.legend(fontsize = 15)\n",
    "ax.set_ylabel(\"Value\", fontsize = 15)\n",
    "ax.grid()\n",
    "ax.set_xlabel(r\"$t$\", fontsize = 16)\n",
    "ax.set_title(\"OOS predictions of MRF\", fontsize = 15)"
   ]
  },
  {
   "cell_type": "code",
   "execution_count": null,
   "metadata": {},
   "outputs": [],
   "source": [
    "MRF.band_plots()"
   ]
  }
 ],
 "metadata": {
  "kernelspec": {
   "display_name": ".venv",
   "language": "python",
   "name": "python3"
  },
  "language_info": {
   "codemirror_mode": {
    "name": "ipython",
    "version": 3
   },
   "file_extension": ".py",
   "mimetype": "text/x-python",
   "name": "python",
   "nbconvert_exporter": "python",
   "pygments_lexer": "ipython3",
   "version": "3.12.2"
  }
 },
 "nbformat": 4,
 "nbformat_minor": 2
}
